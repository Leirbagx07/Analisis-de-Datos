{
  "nbformat": 4,
  "nbformat_minor": 0,
  "metadata": {
    "colab": {
      "provenance": [],
      "include_colab_link": true
    },
    "kernelspec": {
      "name": "python3",
      "display_name": "Python 3"
    },
    "language_info": {
      "name": "python"
    }
  },
  "cells": [
    {
      "cell_type": "markdown",
      "metadata": {
        "id": "view-in-github",
        "colab_type": "text"
      },
      "source": [
        "<a href=\"https://colab.research.google.com/github/Leirbagx07/Analisis-de-Datos/blob/main/Primer_Avance.ipynb\" target=\"_parent\"><img src=\"https://colab.research.google.com/assets/colab-badge.svg\" alt=\"Open In Colab\"/></a>"
      ]
    },
    {
      "cell_type": "markdown",
      "source": [
        "Apertura de archivo\n"
      ],
      "metadata": {
        "id": "X7yLpcL-BPE2"
      }
    },
    {
      "cell_type": "code",
      "source": [
        "from google.colab import files\n",
        "uploaded = files.upload()"
      ],
      "metadata": {
        "colab": {
          "base_uri": "https://localhost:8080/",
          "height": 73
        },
        "id": "xfEWRpk8BVur",
        "outputId": "90519394-ef70-4a9d-fbaa-7e898f5a6bac"
      },
      "execution_count": null,
      "outputs": [
        {
          "output_type": "display_data",
          "data": {
            "text/plain": [
              "<IPython.core.display.HTML object>"
            ],
            "text/html": [
              "\n",
              "     <input type=\"file\" id=\"files-1c7bb93a-cfe6-47ed-a8fe-11d88cc741d2\" name=\"files[]\" multiple disabled\n",
              "        style=\"border:none\" />\n",
              "     <output id=\"result-1c7bb93a-cfe6-47ed-a8fe-11d88cc741d2\">\n",
              "      Upload widget is only available when the cell has been executed in the\n",
              "      current browser session. Please rerun this cell to enable.\n",
              "      </output>\n",
              "      <script>// Copyright 2017 Google LLC\n",
              "//\n",
              "// Licensed under the Apache License, Version 2.0 (the \"License\");\n",
              "// you may not use this file except in compliance with the License.\n",
              "// You may obtain a copy of the License at\n",
              "//\n",
              "//      http://www.apache.org/licenses/LICENSE-2.0\n",
              "//\n",
              "// Unless required by applicable law or agreed to in writing, software\n",
              "// distributed under the License is distributed on an \"AS IS\" BASIS,\n",
              "// WITHOUT WARRANTIES OR CONDITIONS OF ANY KIND, either express or implied.\n",
              "// See the License for the specific language governing permissions and\n",
              "// limitations under the License.\n",
              "\n",
              "/**\n",
              " * @fileoverview Helpers for google.colab Python module.\n",
              " */\n",
              "(function(scope) {\n",
              "function span(text, styleAttributes = {}) {\n",
              "  const element = document.createElement('span');\n",
              "  element.textContent = text;\n",
              "  for (const key of Object.keys(styleAttributes)) {\n",
              "    element.style[key] = styleAttributes[key];\n",
              "  }\n",
              "  return element;\n",
              "}\n",
              "\n",
              "// Max number of bytes which will be uploaded at a time.\n",
              "const MAX_PAYLOAD_SIZE = 100 * 1024;\n",
              "\n",
              "function _uploadFiles(inputId, outputId) {\n",
              "  const steps = uploadFilesStep(inputId, outputId);\n",
              "  const outputElement = document.getElementById(outputId);\n",
              "  // Cache steps on the outputElement to make it available for the next call\n",
              "  // to uploadFilesContinue from Python.\n",
              "  outputElement.steps = steps;\n",
              "\n",
              "  return _uploadFilesContinue(outputId);\n",
              "}\n",
              "\n",
              "// This is roughly an async generator (not supported in the browser yet),\n",
              "// where there are multiple asynchronous steps and the Python side is going\n",
              "// to poll for completion of each step.\n",
              "// This uses a Promise to block the python side on completion of each step,\n",
              "// then passes the result of the previous step as the input to the next step.\n",
              "function _uploadFilesContinue(outputId) {\n",
              "  const outputElement = document.getElementById(outputId);\n",
              "  const steps = outputElement.steps;\n",
              "\n",
              "  const next = steps.next(outputElement.lastPromiseValue);\n",
              "  return Promise.resolve(next.value.promise).then((value) => {\n",
              "    // Cache the last promise value to make it available to the next\n",
              "    // step of the generator.\n",
              "    outputElement.lastPromiseValue = value;\n",
              "    return next.value.response;\n",
              "  });\n",
              "}\n",
              "\n",
              "/**\n",
              " * Generator function which is called between each async step of the upload\n",
              " * process.\n",
              " * @param {string} inputId Element ID of the input file picker element.\n",
              " * @param {string} outputId Element ID of the output display.\n",
              " * @return {!Iterable<!Object>} Iterable of next steps.\n",
              " */\n",
              "function* uploadFilesStep(inputId, outputId) {\n",
              "  const inputElement = document.getElementById(inputId);\n",
              "  inputElement.disabled = false;\n",
              "\n",
              "  const outputElement = document.getElementById(outputId);\n",
              "  outputElement.innerHTML = '';\n",
              "\n",
              "  const pickedPromise = new Promise((resolve) => {\n",
              "    inputElement.addEventListener('change', (e) => {\n",
              "      resolve(e.target.files);\n",
              "    });\n",
              "  });\n",
              "\n",
              "  const cancel = document.createElement('button');\n",
              "  inputElement.parentElement.appendChild(cancel);\n",
              "  cancel.textContent = 'Cancel upload';\n",
              "  const cancelPromise = new Promise((resolve) => {\n",
              "    cancel.onclick = () => {\n",
              "      resolve(null);\n",
              "    };\n",
              "  });\n",
              "\n",
              "  // Wait for the user to pick the files.\n",
              "  const files = yield {\n",
              "    promise: Promise.race([pickedPromise, cancelPromise]),\n",
              "    response: {\n",
              "      action: 'starting',\n",
              "    }\n",
              "  };\n",
              "\n",
              "  cancel.remove();\n",
              "\n",
              "  // Disable the input element since further picks are not allowed.\n",
              "  inputElement.disabled = true;\n",
              "\n",
              "  if (!files) {\n",
              "    return {\n",
              "      response: {\n",
              "        action: 'complete',\n",
              "      }\n",
              "    };\n",
              "  }\n",
              "\n",
              "  for (const file of files) {\n",
              "    const li = document.createElement('li');\n",
              "    li.append(span(file.name, {fontWeight: 'bold'}));\n",
              "    li.append(span(\n",
              "        `(${file.type || 'n/a'}) - ${file.size} bytes, ` +\n",
              "        `last modified: ${\n",
              "            file.lastModifiedDate ? file.lastModifiedDate.toLocaleDateString() :\n",
              "                                    'n/a'} - `));\n",
              "    const percent = span('0% done');\n",
              "    li.appendChild(percent);\n",
              "\n",
              "    outputElement.appendChild(li);\n",
              "\n",
              "    const fileDataPromise = new Promise((resolve) => {\n",
              "      const reader = new FileReader();\n",
              "      reader.onload = (e) => {\n",
              "        resolve(e.target.result);\n",
              "      };\n",
              "      reader.readAsArrayBuffer(file);\n",
              "    });\n",
              "    // Wait for the data to be ready.\n",
              "    let fileData = yield {\n",
              "      promise: fileDataPromise,\n",
              "      response: {\n",
              "        action: 'continue',\n",
              "      }\n",
              "    };\n",
              "\n",
              "    // Use a chunked sending to avoid message size limits. See b/62115660.\n",
              "    let position = 0;\n",
              "    do {\n",
              "      const length = Math.min(fileData.byteLength - position, MAX_PAYLOAD_SIZE);\n",
              "      const chunk = new Uint8Array(fileData, position, length);\n",
              "      position += length;\n",
              "\n",
              "      const base64 = btoa(String.fromCharCode.apply(null, chunk));\n",
              "      yield {\n",
              "        response: {\n",
              "          action: 'append',\n",
              "          file: file.name,\n",
              "          data: base64,\n",
              "        },\n",
              "      };\n",
              "\n",
              "      let percentDone = fileData.byteLength === 0 ?\n",
              "          100 :\n",
              "          Math.round((position / fileData.byteLength) * 100);\n",
              "      percent.textContent = `${percentDone}% done`;\n",
              "\n",
              "    } while (position < fileData.byteLength);\n",
              "  }\n",
              "\n",
              "  // All done.\n",
              "  yield {\n",
              "    response: {\n",
              "      action: 'complete',\n",
              "    }\n",
              "  };\n",
              "}\n",
              "\n",
              "scope.google = scope.google || {};\n",
              "scope.google.colab = scope.google.colab || {};\n",
              "scope.google.colab._files = {\n",
              "  _uploadFiles,\n",
              "  _uploadFilesContinue,\n",
              "};\n",
              "})(self);\n",
              "</script> "
            ]
          },
          "metadata": {}
        },
        {
          "output_type": "stream",
          "name": "stdout",
          "text": [
            "Saving drug_deaths.csv to drug_deaths.csv\n"
          ]
        }
      ]
    },
    {
      "cell_type": "markdown",
      "source": [
        "Librerias"
      ],
      "metadata": {
        "id": "L0DSoBRaBtJb"
      }
    },
    {
      "cell_type": "code",
      "source": [
        "import pandas as pd\n",
        "import matplotlib.pyplot as plt\n",
        "import seaborn as sns"
      ],
      "metadata": {
        "id": "mWwjMS1hByC-"
      },
      "execution_count": null,
      "outputs": []
    },
    {
      "cell_type": "markdown",
      "source": [
        "Archivo"
      ],
      "metadata": {
        "id": "3ZnntKt_B21o"
      }
    },
    {
      "cell_type": "code",
      "source": [
        "df=pd.read_csv('/content/drug_deaths.csv')\n",
        "data=pd.DataFrame(df)\n",
        "print(data)"
      ],
      "metadata": {
        "colab": {
          "base_uri": "https://localhost:8080/"
        },
        "id": "HZEcMtoLB5g9",
        "outputId": "2f2e14ca-1b5e-446c-fffb-da7b44d31a01"
      },
      "execution_count": null,
      "outputs": [
        {
          "output_type": "stream",
          "name": "stdout",
          "text": [
            "      Unnamed: 0       ID                    Date  DateType   Age     Sex  \\\n",
            "0              0  14-0273  06/28/2014 12:00:00 AM       1.0   NaN     NaN   \n",
            "1              1  13-0102  03/21/2013 12:00:00 AM       0.0  48.0    Male   \n",
            "2              2  16-0165  03/13/2016 12:00:00 AM       0.0  30.0  Female   \n",
            "3              3  16-0208  03/31/2016 12:00:00 AM       0.0  23.0    Male   \n",
            "4              4  13-0052  02/13/2013 12:00:00 AM       0.0  22.0    Male   \n",
            "...          ...      ...                     ...       ...   ...     ...   \n",
            "5100        5100  15-0466  09/08/2015 12:00:00 AM       1.0  43.0    Male   \n",
            "5101        5101  17-0618  07/22/2017 12:00:00 AM       1.0  21.0    Male   \n",
            "5102        5102  18-0646  08/14/2018 12:00:00 AM       0.0  30.0    Male   \n",
            "5103        5103  14-0124  03/16/2014 12:00:00 AM       0.0  33.0    Male   \n",
            "5104        5104  16-0637  09/15/2016 12:00:00 AM       0.0  33.0    Male   \n",
            "\n",
            "              Race  ResidenceCity ResidenceCounty ResidenceState  ... Tramad  \\\n",
            "0              NaN            NaN             NaN            NaN  ...      0   \n",
            "1            Black        NORWALK             NaN            NaN  ...      0   \n",
            "2            White     SANDY HOOK       FAIRFIELD             CT  ...      0   \n",
            "3            White            RYE     WESTCHESTER             NY  ...      0   \n",
            "4     Asian, Other       FLUSHING          QUEENS            NaN  ...      0   \n",
            "...            ...            ...             ...            ...  ...    ...   \n",
            "5100         White       CHESHIRE       NEW HAVEN             CT  ...      0   \n",
            "5101         White        MADISON       NEW HAVEN             CT  ...      0   \n",
            "5102         White  LAWRENCEVILLE           TIOGA             PA  ...      1   \n",
            "5103         White       HARTFORD             NaN            NaN  ...      0   \n",
            "5104         White      THOMASTON      LITCHFIELD             CT  ...      0   \n",
            "\n",
            "     Morphine_NotHeroin Hydromorphone Other OpiateNOS AnyOpioid MannerofDeath  \\\n",
            "0                     0             0   NaN         0         0      Accident   \n",
            "1                     0             0   NaN         0         0      Accident   \n",
            "2                     0             0   NaN         0         1      Accident   \n",
            "3                     0             0   NaN         0         1      Accident   \n",
            "4                     0             0   NaN         0         0      Accident   \n",
            "...                 ...           ...   ...       ...       ...           ...   \n",
            "5100                  0             0   NaN         0         0      Accident   \n",
            "5101                  0             0   NaN         0         0      Accident   \n",
            "5102                  0             0   NaN         0         1      Accident   \n",
            "5103                  0             0   NaN         0         0      Accident   \n",
            "5104                  0             0   NaN         0         1      Accident   \n",
            "\n",
            "                                DeathCityGeo  \\\n",
            "0                CT\\n(41.575155, -72.738288)   \n",
            "1        Norwalk, CT\\n(41.11805, -73.412906)   \n",
            "2       Danbury, CT\\n(41.393666, -73.451539)   \n",
            "3     Greenwich, CT\\n(41.026526, -73.628549)   \n",
            "4     Greenwich, CT\\n(41.026526, -73.628549)   \n",
            "...                                      ...   \n",
            "5100   CHESHIRE, CT\\n(41.498834, -72.901448)   \n",
            "5101  New Haven, CT\\n(41.308252, -72.924161)   \n",
            "5102    DANBURY, CT\\n(41.393666, -73.451539)   \n",
            "5103     WINDSOR, CT\\n(41.852781, -72.64379)   \n",
            "5104  WATERBURY, CT\\n(41.554261, -73.043069)   \n",
            "\n",
            "                             ResidenceCityGeo  \\\n",
            "0                 CT\\n(41.575155, -72.738288)   \n",
            "1         NORWALK, CT\\n(41.11805, -73.412906)   \n",
            "2     SANDY HOOK, CT\\n(41.419998, -73.282501)   \n",
            "3                                         NaN   \n",
            "4                                         NaN   \n",
            "...                                       ...   \n",
            "5100    CHESHIRE, CT\\n(41.498834, -72.901448)   \n",
            "5101      MADISON, CT\\n(41.271447, -72.60086)   \n",
            "5102                                      NaN   \n",
            "5103    HARTFORD, CT\\n(41.765775, -72.673356)   \n",
            "5104   THOMASTON, CT\\n(41.674124, -73.073189)   \n",
            "\n",
            "                                   InjuryCityGeo  \n",
            "0                    CT\\n(41.575155, -72.738288)  \n",
            "1                    CT\\n(41.575155, -72.738288)  \n",
            "2                                            NaN  \n",
            "3                                            NaN  \n",
            "4                    CT\\n(41.575155, -72.738288)  \n",
            "...                                          ...  \n",
            "5100                 CT\\n(41.575155, -72.738288)  \n",
            "5101                 CT\\n(41.575155, -72.738288)  \n",
            "5102        DANBURY, CT\\n(41.393666, -73.451539)  \n",
            "5103                 CT\\n(41.575155, -72.738288)  \n",
            "5104  WATERBURY, CT, CT\\n(41.554261, -73.043069)  \n",
            "\n",
            "[5105 rows x 42 columns]\n"
          ]
        }
      ]
    },
    {
      "cell_type": "code",
      "source": [
        "print(data.head\n",
        "      )"
      ],
      "metadata": {
        "colab": {
          "base_uri": "https://localhost:8080/"
        },
        "id": "v2KZFkqLGJa7",
        "outputId": "191911c2-7b59-4b7e-8d6a-1c17af3fe96b"
      },
      "execution_count": null,
      "outputs": [
        {
          "output_type": "stream",
          "name": "stdout",
          "text": [
            "<bound method NDFrame.head of       Unnamed: 0       ID                    Date  DateType   Age     Sex  \\\n",
            "0              0  14-0273  06/28/2014 12:00:00 AM       1.0   NaN     NaN   \n",
            "1              1  13-0102  03/21/2013 12:00:00 AM       0.0  48.0    Male   \n",
            "2              2  16-0165  03/13/2016 12:00:00 AM       0.0  30.0  Female   \n",
            "3              3  16-0208  03/31/2016 12:00:00 AM       0.0  23.0    Male   \n",
            "4              4  13-0052  02/13/2013 12:00:00 AM       0.0  22.0    Male   \n",
            "...          ...      ...                     ...       ...   ...     ...   \n",
            "5100        5100  15-0466  09/08/2015 12:00:00 AM       1.0  43.0    Male   \n",
            "5101        5101  17-0618  07/22/2017 12:00:00 AM       1.0  21.0    Male   \n",
            "5102        5102  18-0646  08/14/2018 12:00:00 AM       0.0  30.0    Male   \n",
            "5103        5103  14-0124  03/16/2014 12:00:00 AM       0.0  33.0    Male   \n",
            "5104        5104  16-0637  09/15/2016 12:00:00 AM       0.0  33.0    Male   \n",
            "\n",
            "              Race  ResidenceCity ResidenceCounty ResidenceState  ... Tramad  \\\n",
            "0              NaN            NaN             NaN            NaN  ...      0   \n",
            "1            Black        NORWALK             NaN            NaN  ...      0   \n",
            "2            White     SANDY HOOK       FAIRFIELD             CT  ...      0   \n",
            "3            White            RYE     WESTCHESTER             NY  ...      0   \n",
            "4     Asian, Other       FLUSHING          QUEENS            NaN  ...      0   \n",
            "...            ...            ...             ...            ...  ...    ...   \n",
            "5100         White       CHESHIRE       NEW HAVEN             CT  ...      0   \n",
            "5101         White        MADISON       NEW HAVEN             CT  ...      0   \n",
            "5102         White  LAWRENCEVILLE           TIOGA             PA  ...      1   \n",
            "5103         White       HARTFORD             NaN            NaN  ...      0   \n",
            "5104         White      THOMASTON      LITCHFIELD             CT  ...      0   \n",
            "\n",
            "     Morphine_NotHeroin Hydromorphone Other OpiateNOS AnyOpioid MannerofDeath  \\\n",
            "0                     0             0   NaN         0         0      Accident   \n",
            "1                     0             0   NaN         0         0      Accident   \n",
            "2                     0             0   NaN         0         1      Accident   \n",
            "3                     0             0   NaN         0         1      Accident   \n",
            "4                     0             0   NaN         0         0      Accident   \n",
            "...                 ...           ...   ...       ...       ...           ...   \n",
            "5100                  0             0   NaN         0         0      Accident   \n",
            "5101                  0             0   NaN         0         0      Accident   \n",
            "5102                  0             0   NaN         0         1      Accident   \n",
            "5103                  0             0   NaN         0         0      Accident   \n",
            "5104                  0             0   NaN         0         1      Accident   \n",
            "\n",
            "                                DeathCityGeo  \\\n",
            "0                CT\\n(41.575155, -72.738288)   \n",
            "1        Norwalk, CT\\n(41.11805, -73.412906)   \n",
            "2       Danbury, CT\\n(41.393666, -73.451539)   \n",
            "3     Greenwich, CT\\n(41.026526, -73.628549)   \n",
            "4     Greenwich, CT\\n(41.026526, -73.628549)   \n",
            "...                                      ...   \n",
            "5100   CHESHIRE, CT\\n(41.498834, -72.901448)   \n",
            "5101  New Haven, CT\\n(41.308252, -72.924161)   \n",
            "5102    DANBURY, CT\\n(41.393666, -73.451539)   \n",
            "5103     WINDSOR, CT\\n(41.852781, -72.64379)   \n",
            "5104  WATERBURY, CT\\n(41.554261, -73.043069)   \n",
            "\n",
            "                             ResidenceCityGeo  \\\n",
            "0                 CT\\n(41.575155, -72.738288)   \n",
            "1         NORWALK, CT\\n(41.11805, -73.412906)   \n",
            "2     SANDY HOOK, CT\\n(41.419998, -73.282501)   \n",
            "3                                         NaN   \n",
            "4                                         NaN   \n",
            "...                                       ...   \n",
            "5100    CHESHIRE, CT\\n(41.498834, -72.901448)   \n",
            "5101      MADISON, CT\\n(41.271447, -72.60086)   \n",
            "5102                                      NaN   \n",
            "5103    HARTFORD, CT\\n(41.765775, -72.673356)   \n",
            "5104   THOMASTON, CT\\n(41.674124, -73.073189)   \n",
            "\n",
            "                                   InjuryCityGeo  \n",
            "0                    CT\\n(41.575155, -72.738288)  \n",
            "1                    CT\\n(41.575155, -72.738288)  \n",
            "2                                            NaN  \n",
            "3                                            NaN  \n",
            "4                    CT\\n(41.575155, -72.738288)  \n",
            "...                                          ...  \n",
            "5100                 CT\\n(41.575155, -72.738288)  \n",
            "5101                 CT\\n(41.575155, -72.738288)  \n",
            "5102        DANBURY, CT\\n(41.393666, -73.451539)  \n",
            "5103                 CT\\n(41.575155, -72.738288)  \n",
            "5104  WATERBURY, CT, CT\\n(41.554261, -73.043069)  \n",
            "\n",
            "[5105 rows x 42 columns]>\n"
          ]
        }
      ]
    },
    {
      "cell_type": "code",
      "source": [
        "import pandas as pd\n",
        "import matplotlib.pyplot as plt\n",
        "%matplotlib inline"
      ],
      "metadata": {
        "id": "S7cYDvITCO2p"
      },
      "execution_count": null,
      "outputs": []
    },
    {
      "cell_type": "code",
      "source": [
        "import pandas as pd\n",
        "import matplotlib.pyplot as plt\n",
        "\n",
        "df = pd.read_csv('drug_deaths.csv')\n",
        "\n",
        "sex_counts = df.groupby('Sex').size()\n",
        "\n",
        "colors = ['red','blue']\n",
        "\n",
        "plt.pie(sex_counts, labels=sex_counts.index, autopct='%1.1f%%', colors=colors, shadow=True, wedgeprops={'linewidth': 2, 'edgecolor': 'white'})\n",
        "plt.legend(title='Sex', loc='best', labels=sex_counts.index)\n",
        "plt.title('Drug Deaths by Sex')\n",
        "plt.figure(figsize=(8, 6))\n",
        "plt.show()\n"
      ],
      "metadata": {
        "colab": {
          "base_uri": "https://localhost:8080/",
          "height": 445
        },
        "id": "PNDXLjtIH9kV",
        "outputId": "8a952691-5aed-47eb-e53a-72a0faafdacf"
      },
      "execution_count": null,
      "outputs": [
        {
          "output_type": "display_data",
          "data": {
            "text/plain": [
              "<Figure size 640x480 with 1 Axes>"
            ],
            "image/png": "[encoded data removed]"
          },
          "metadata": {}
        },
        {
          "output_type": "display_data",
          "data": {
            "text/plain": [
              "<Figure size 800x600 with 0 Axes>"
            ]
          },
          "metadata": {}
        }
      ]
    },
    {
      "cell_type": "markdown",
      "source": [
        "Histograma de numero de muertes por sobredosis segun el rango de edad"
      ],
      "metadata": {
        "id": "nrX09CjaIbr-"
      }
    },
    {
      "cell_type": "code",
      "source": [
        "a=df.Age.plot.hist(color='lightblue')\n",
        "a.set_title(r'numero de muertes por sobredosis segun el rango de edad')\n",
        "a.set_xlabel('Rango_de_Edad')\n",
        "a.set_ylabel('Muertes_por_Sobredosis')\n",
        "plt.show\n"
      ],
      "metadata": {
        "id": "9DkJX0ZkIb00",
        "colab": {
          "base_uri": "https://localhost:8080/",
          "height": 489
        },
        "outputId": "40c50594-93c6-4f09-dbba-5895944c5d16"
      },
      "execution_count": null,
      "outputs": [
        {
          "output_type": "execute_result",
          "data": {
            "text/plain": [
              "<function matplotlib.pyplot.show(close=None, block=None)>"
            ]
          },
          "metadata": {},
          "execution_count": 13
        },
        {
          "output_type": "display_data",
          "data": {
            "text/plain": [
              "<Figure size 640x480 with 1 Axes>"
            ],
            "image/png": "[encoded data removed]"
          },
          "metadata": {}
        }
      ]
    }
  ]
}